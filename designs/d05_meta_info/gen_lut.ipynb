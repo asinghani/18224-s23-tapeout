{
 "cells": [
  {
   "cell_type": "code",
   "execution_count": 1,
   "id": "20ac2bf9",
   "metadata": {},
   "outputs": [],
   "source": [
    "# Generate the metadata lookup table using Quine-McCluskey to simplify the information ROM"
   ]
  },
  {
   "cell_type": "code",
   "execution_count": 109,
   "id": "66c38083",
   "metadata": {},
   "outputs": [],
   "source": [
    "import pandas as pd\n",
    "from quine_mccluskey.qm import QuineMcCluskey"
   ]
  },
  {
   "cell_type": "code",
   "execution_count": null,
   "id": "a3ef6888",
   "metadata": {},
   "outputs": [],
   "source": []
  },
  {
   "cell_type": "code",
   "execution_count": 19,
   "id": "b5e2f5bd",
   "metadata": {},
   "outputs": [],
   "source": [
    "data = pd.read_csv(\"/Users/anish/Desktop/student-designs-export.csv\")\n",
    "data = data[~data[\"Project Name\"].isnull()]"
   ]
  },
  {
   "cell_type": "code",
   "execution_count": 22,
   "id": "4ba18f54",
   "metadata": {},
   "outputs": [
    {
     "data": {
      "text/plain": [
       "39"
      ]
     },
     "execution_count": 22,
     "metadata": {},
     "output_type": "execute_result"
    }
   ],
   "source": [
    "len(data)"
   ]
  },
  {
   "cell_type": "code",
   "execution_count": 169,
   "id": "a4c9bd6c",
   "metadata": {},
   "outputs": [
    {
     "data": {
      "text/plain": [
       "(58, 53, 44)"
      ]
     },
     "execution_count": 169,
     "metadata": {},
     "output_type": "execute_result"
    }
   ],
   "source": []
  },
  {
   "cell_type": "code",
   "execution_count": 182,
   "id": "04e8d9d9",
   "metadata": {},
   "outputs": [
    {
     "name": "stdout",
     "output_type": "stream",
     "text": [
      "1 d01_example_adder\n",
      "6-Bit Combinational Adder (demo)\u0000\n",
      "\n",
      "2 d02_example_counter\n",
      "12-Bit Counter (demo)\u0000\n",
      "\n",
      "3 d03_example_beepboop\n",
      "\"Beep Boop\" Traffic Light Controller (demo)\u0000\n",
      "\n",
      "4 d04_example_aes128sca\n",
      "AES-128 Side-Channel Model (demo)\u0000\n",
      "\n",
      "5 d05_meta_info\n",
      "Tapeout Info (demo)\u0000\n",
      "\n",
      "10 d10_wabib_tictactoe\n",
      "Tic-Tac-Toe Game by Wahib Abib\u0000\n",
      "\n",
      "11 d11_gbailey_bfchip\n",
      "Brainfuck CPU by Gary Bailey\u0000\n",
      "\n",
      "12 d12_oball_i2c\n",
      "I2C Peripheral by Owen Ball\u0000\n",
      "\n",
      "13 d13_jrduvall_s444\n",
      "S444 FPGA Logic Cell by Jack Duvall\u0000\n",
      "\n",
      "14 d14_jessief_trafficlight\n",
      "Traffic Light Controller by Jessie Fan\u0000\n",
      "\n",
      "15 d15_jerryfen_prng\n",
      "Pseudo Random Number Generator by Jerry Feng\u0000\n",
      "\n",
      "16 d16_bgonzale_pll\n",
      "Digital Phase Locked Loop by Joel Gonzalez\u0000\n",
      "\n",
      "17 d17_njayawar_tetris\n",
      "Tetris Game by Navod Jayawardhane\u0000\n",
      "\n",
      "18 d18_nikhildj_mac\n",
      "Multiply-Accumulate Unit by Nikhil Dinkar Joshi\u0000\n",
      "\n",
      "19 d19_rdkapur_encryptor\n",
      "Encryption Unit (custom cipher) by Roman Kapur\u0000\n",
      "\n",
      "20 d20_rashik_tetris\n",
      "Simplified Tetris Game by Rashi Kejriwal\u0000\n",
      "\n",
      "21 d21_varunk2_motorctrl\n",
      "Motor Controller by Varun Kumar\u0000\n",
      "\n",
      "22 d22_yushuanl_convolution\n",
      "Convolution Accelerator by Yushuang Liu\u0000\n",
      "\n",
      "23 d23_zhiyingm_turing\n",
      "Turing Machine by Ying Meng\u0000\n",
      "\n",
      "24 d24_mnguyen2_tpu\n",
      "Tensor Processing Unit by M Nguyen\u0000\n",
      "\n",
      "25 d25_araghave_huffman\n",
      "Huffman Encoder by Anusha Raghavendra\u0000\n",
      "\n",
      "26 d26_cjstange_perceptron\n",
      "Trainable Perceptron by Christopher Stange\u0000\n",
      "\n",
      "27 d27_svemulap_fpu\n",
      "Floating Point Unit by Sri Lakshmi Vemulapalli\u0000\n",
      "\n",
      "28 d28_gvenkata_ucpu\n",
      "Microcoded CPU by Ganesh Venkatachalam\u0000\n",
      "\n",
      "29 d29_bwilhelm_i8008\n",
      "Intel 8008-based CPU by Brendan Wilhelm\u0000\n",
      "\n",
      "30 d30_yuchingw_fpga\n",
      "Tiny FPGA by Yu-Ching Wu\u0000\n",
      "\n",
      "31 d31_mdhamank_lfsr\n",
      "Linear Feedback Shift Register by Mihir Dhamankar\u0000\n",
      "\n",
      "32 d32_ngaertne_cpu\n",
      "4-bit CPU by Noah Gaertner\u0000\n",
      "\n",
      "33 d33_mgee3_adder\n",
      "Adder Architecture in Wokwi by Michael Gee\u0000\n",
      "\n",
      "34 d34_hgrodin_collatz\n",
      "Collatz Sequence Computer by Harrison Grodin\u0000\n",
      "\n",
      "35 d35_ckasuba_comparator\n",
      "Magnitude Comparator by Caroline Kasuba\u0000\n",
      "\n",
      "36 d36_jxli_fpmul\n",
      "Floating Point Multiplier by Joseph Li\u0000\n",
      "\n",
      "37 d37_sophiali_calculator\n",
      "Calculator Chip by Sophia Li\u0000\n",
      "\n",
      "38 d38_jxlu_pwm\n",
      "PWM Signal Generator by Jason Lu\u0000\n",
      "\n",
      "39 d39_oonyeado_sevenseg\n",
      "Hex to Seven-Segment by Kachi Onyeador\u0000\n",
      "\n",
      "40 d40_jrecta_asyncfifo\n",
      "Clock Domain Crossing FIFO by Jon Recta\u0000\n",
      "\n",
      "41 d41_stroucki_corralgame\n",
      "\"Corral\" Game by Michael Stroucken\u0000\n",
      "\n",
      "42 d42_qilins_sevenseg\n",
      "Hex to Seven-Segment by Samuel Sun\u0000\n",
      "\n",
      "43 d43_mmx_counter\n",
      "Counter by Mason Xiao\u0000\n",
      "\n"
     ]
    }
   ],
   "source": [
    "table = {}\n",
    "maxlen = 0\n",
    "for _, x in data.iterrows():\n",
    "    idx = int(x[\"Project Name\"].split(\"_\")[0].replace(\"d\", \"\"))\n",
    "    proj = x[\"Project\"]\n",
    "    stu = str(x[\"Student\"])\n",
    "    \n",
    "    if stu == \"nan\":\n",
    "        out = proj + \" (demo)\"\n",
    "    else:\n",
    "        out = proj + \" by \" + stu\n",
    "        \n",
    "    out += \"\\0\"\n",
    "    \n",
    "    print(idx, x[\"Project Name\"])\n",
    "    print(out)\n",
    "    print()\n",
    "    \n",
    "    if maxlen < len(out): maxlen = len(out)\n",
    "    table[idx] = out\n",
    "    \n",
    "table[60] = \"Student projects for Spring 2023 course at Carnegie Mellon\\0\"\n",
    "table[61] = \"18-224/18-624/98-154 Intro to Open-Source Chip Design\\0\"\n",
    "table[62] = \"Course organized by Anish Singhani and Prof. Bill Nace\\0\"\n",
    "table[63] = \"ROM generated 2023-05-17 03:58:27 UTC \\0\"\n",
    "\n",
    "if len(table[60]) > maxlen: maxlen = len(table[60])"
   ]
  },
  {
   "cell_type": "code",
   "execution_count": 183,
   "id": "0f28fd61",
   "metadata": {},
   "outputs": [
    {
     "data": {
      "text/plain": [
       "(43, 59)"
      ]
     },
     "execution_count": 183,
     "metadata": {},
     "output_type": "execute_result"
    }
   ],
   "source": [
    "assert maxlen < 64\n",
    "len(table), maxlen"
   ]
  },
  {
   "cell_type": "code",
   "execution_count": null,
   "id": "65c141b4",
   "metadata": {},
   "outputs": [],
   "source": []
  },
  {
   "cell_type": "code",
   "execution_count": 184,
   "id": "02149b4d",
   "metadata": {},
   "outputs": [],
   "source": [
    "one_terms = [[] for _ in range(8)]\n",
    "dc_terms = [[] for _ in range(8)]\n",
    "\n",
    "for ii in range(8):\n",
    "    ones = one_terms[ii]\n",
    "    dc = dc_terms[ii]\n",
    "    \n",
    "    for idx in range(64):\n",
    "        for i in range(64):\n",
    "            val = (idx << 6) | i\n",
    "\n",
    "            string = table.get(idx, \"\\0\")\n",
    "            if i < len(string):\n",
    "                c = ord(string[i])\n",
    "                if (c & (1 << ii)) != 0:\n",
    "                    ones.append(val)\n",
    "            else:\n",
    "                dc.append(val)\n"
   ]
  },
  {
   "cell_type": "code",
   "execution_count": 185,
   "id": "d30fa2bd",
   "metadata": {},
   "outputs": [],
   "source": [
    "def convert_minterm(term, bits):\n",
    "    term = term[::-1]\n",
    "    s = []\n",
    "    for i in range(bits):\n",
    "        if term[i] == \"-\":\n",
    "            pass\n",
    "        elif term[i] == \"1\":\n",
    "            s.append(f\"io_in[{i}]\")\n",
    "        elif term[i] == \"0\":\n",
    "            s.append(f\"~io_in[{i}]\")\n",
    "        else:\n",
    "            assert False\n",
    "    \n",
    "    if len(s) == 0:\n",
    "        return \"0\"\n",
    "    else:\n",
    "        return \"(\" + \" & \".join(s) + \")\""
   ]
  },
  {
   "cell_type": "code",
   "execution_count": 186,
   "id": "d044a390",
   "metadata": {},
   "outputs": [
    {
     "name": "stdout",
     "output_type": "stream",
     "text": [
      "0\n",
      "1\n",
      "2\n",
      "3\n",
      "4\n",
      "5\n",
      "6\n",
      "7\n"
     ]
    }
   ],
   "source": [
    "statements = \"\"\n",
    "\n",
    "for i in range(8):\n",
    "    print(i)\n",
    "    qm = QuineMcCluskey()\n",
    "    s = qm.simplify(ones=one_terms[i], dc=dc_terms[i], num_bits=12)\n",
    "    mt = \" | \".join([convert_minterm(x, 12) for x in s])\n",
    "    statements += (f\"assign val[{i}] = {mt};\\n\\n\")\n",
    "    \n",
    "\n",
    "verilog = f\"\"\"\n",
    "`default_nettype none\n",
    "\n",
    "module my_chip (\n",
    "    input logic [11:0] io_in,\n",
    "    input logic clock, reset,\n",
    "    output logic [11:0] io_out\n",
    ");\n",
    "\n",
    "wire [7:0] val;\n",
    "\n",
    "always_ff @(posedge clock) io_out <= {{4'b0000, val}};\n",
    "\n",
    "{statements}\n",
    "\n",
    "endmodule\n",
    "\"\"\"\n",
    "    \n",
    "with open(\"src/chip.sv\", \"w+\") as f:\n",
    "    f.write(verilog)"
   ]
  },
  {
   "cell_type": "code",
   "execution_count": null,
   "id": "6dbc7dfe",
   "metadata": {},
   "outputs": [],
   "source": []
  },
  {
   "cell_type": "code",
   "execution_count": null,
   "id": "78176a56",
   "metadata": {},
   "outputs": [],
   "source": []
  },
  {
   "cell_type": "code",
   "execution_count": null,
   "id": "d67ee4f8",
   "metadata": {},
   "outputs": [],
   "source": []
  }
 ],
 "metadata": {
  "kernelspec": {
   "display_name": "Python 3 (ipykernel)",
   "language": "python",
   "name": "python3"
  },
  "language_info": {
   "codemirror_mode": {
    "name": "ipython",
    "version": 3
   },
   "file_extension": ".py",
   "mimetype": "text/x-python",
   "name": "python",
   "nbconvert_exporter": "python",
   "pygments_lexer": "ipython3",
   "version": "3.10.4"
  }
 },
 "nbformat": 4,
 "nbformat_minor": 5
}
